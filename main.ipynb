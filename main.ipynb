{
 "cells": [
  {
   "cell_type": "code",
   "execution_count": 4,
   "metadata": {},
   "outputs": [],
   "source": [
    "import pycocotools\n",
    "from ultralytics import YOLO\n",
    "import numpy as np\n",
    "import pandas as pd\n",
    "import matplotlib.pyplot as plt\n",
    "import seaborn as sns\n",
    "import cv2\n",
    "import os\n",
    "import yaml\n",
    "import torch\n",
    "import shutil\n",
    "import wandb"
   ]
  },
  {
   "cell_type": "code",
   "execution_count": 6,
   "metadata": {},
   "outputs": [],
   "source": [
    "train_imgs_dir = \"data/training_images\"\n",
    "train_labels = \"data/train_solution_bounding_boxes (1).csv\"\n",
    "test_imgs_dir = \"data/testing_images\""
   ]
  },
  {
   "cell_type": "code",
   "execution_count": 13,
   "metadata": {},
   "outputs": [
    {
     "name": "stdout",
     "output_type": "stream",
     "text": [
      "['vid_4_1000.jpg', 'vid_4_10000.jpg', 'vid_4_10020.jpg', 'vid_4_10040.jpg', 'vid_4_10060.jpg', 'vid_4_10080.jpg', 'vid_4_10100.jpg', 'vid_4_10120.jpg', 'vid_4_10140.jpg', 'vid_4_10160.jpg', 'vid_4_10180.jpg', 'vid_4_1020.jpg', 'vid_4_10200.jpg', 'vid_4_10220.jpg', 'vid_4_10240.jpg', 'vid_4_10260.jpg', 'vid_4_10280.jpg', 'vid_4_10300.jpg', 'vid_4_10320.jpg', 'vid_4_10340.jpg', 'vid_4_10360.jpg', 'vid_4_10380.jpg', 'vid_4_1040.jpg', 'vid_4_10400.jpg', 'vid_4_10420.jpg', 'vid_4_10440.jpg', 'vid_4_10460.jpg', 'vid_4_10480.jpg', 'vid_4_10500.jpg', 'vid_4_10520.jpg', 'vid_4_10540.jpg', 'vid_4_10560.jpg', 'vid_4_10580.jpg', 'vid_4_1060.jpg', 'vid_4_10600.jpg', 'vid_4_10620.jpg', 'vid_4_10640.jpg', 'vid_4_10660.jpg', 'vid_4_10680.jpg', 'vid_4_10700.jpg', 'vid_4_10720.jpg', 'vid_4_10740.jpg', 'vid_4_10760.jpg', 'vid_4_10780.jpg', 'vid_4_1080.jpg', 'vid_4_10800.jpg', 'vid_4_10820.jpg', 'vid_4_10840.jpg', 'vid_4_10860.jpg', 'vid_4_10880.jpg', 'vid_4_10900.jpg', 'vid_4_10920.jpg', 'vid_4_10940.jpg', 'vid_4_10960.jpg', 'vid_4_10980.jpg', 'vid_4_11000.jpg', 'vid_4_11020.jpg', 'vid_4_11040.jpg', 'vid_4_11060.jpg', 'vid_4_11080.jpg', 'vid_4_11100.jpg', 'vid_4_11120.jpg', 'vid_4_11140.jpg', 'vid_4_11160.jpg', 'vid_4_11180.jpg', 'vid_4_11200.jpg', 'vid_4_11220.jpg', 'vid_4_11240.jpg', 'vid_4_11260.jpg', 'vid_4_11280.jpg', 'vid_4_11300.jpg', 'vid_4_11320.jpg', 'vid_4_11340.jpg', 'vid_4_11360.jpg', 'vid_4_11380.jpg', 'vid_4_11400.jpg', 'vid_4_11420.jpg', 'vid_4_11440.jpg', 'vid_4_11460.jpg', 'vid_4_11480.jpg', 'vid_4_11500.jpg', 'vid_4_11520.jpg', 'vid_4_11760.jpg', 'vid_4_11780.jpg', 'vid_4_11800.jpg', 'vid_4_11820.jpg', 'vid_4_11840.jpg', 'vid_4_11860.jpg', 'vid_4_11880.jpg', 'vid_4_11900.jpg', 'vid_4_11920.jpg', 'vid_4_11940.jpg', 'vid_4_11960.jpg', 'vid_4_11980.jpg', 'vid_4_12000.jpg', 'vid_4_12020.jpg', 'vid_4_12040.jpg', 'vid_4_12060.jpg', 'vid_4_12080.jpg', 'vid_4_12100.jpg', 'vid_4_12120.jpg', 'vid_4_12140.jpg', 'vid_4_12160.jpg', 'vid_4_12180.jpg', 'vid_4_12200.jpg', 'vid_4_12220.jpg', 'vid_4_12240.jpg', 'vid_4_12260.jpg', 'vid_4_12280.jpg', 'vid_4_12300.jpg', 'vid_4_12320.jpg', 'vid_4_12340.jpg', 'vid_4_12360.jpg', 'vid_4_12380.jpg', 'vid_4_12400.jpg', 'vid_4_12420.jpg', 'vid_4_12440.jpg', 'vid_4_12460.jpg', 'vid_4_12480.jpg', 'vid_4_12500.jpg', 'vid_4_12520.jpg', 'vid_4_12540.jpg', 'vid_4_12560.jpg', 'vid_4_12580.jpg', 'vid_4_12600.jpg', 'vid_4_12620.jpg', 'vid_4_12640.jpg', 'vid_4_12660.jpg', 'vid_4_12680.jpg', 'vid_4_12700.jpg', 'vid_4_12720.jpg', 'vid_4_12740.jpg', 'vid_4_12760.jpg', 'vid_4_12780.jpg', 'vid_4_12800.jpg', 'vid_4_12820.jpg', 'vid_4_12840.jpg', 'vid_4_12860.jpg', 'vid_4_12880.jpg', 'vid_4_12900.jpg', 'vid_4_13020.jpg', 'vid_4_13040.jpg', 'vid_4_13060.jpg', 'vid_4_13080.jpg', 'vid_4_13100.jpg', 'vid_4_13120.jpg', 'vid_4_13240.jpg', 'vid_4_13260.jpg', 'vid_4_13280.jpg', 'vid_4_13300.jpg', 'vid_4_13320.jpg', 'vid_4_13420.jpg', 'vid_4_13440.jpg', 'vid_4_13460.jpg', 'vid_4_13480.jpg', 'vid_4_13540.jpg', 'vid_4_13580.jpg', 'vid_4_13620.jpg', 'vid_4_13640.jpg', 'vid_4_13660.jpg', 'vid_4_13680.jpg', 'vid_4_13700.jpg', 'vid_4_13720.jpg', 'vid_4_13740.jpg', 'vid_4_13760.jpg', 'vid_4_13780.jpg', 'vid_4_13800.jpg', 'vid_4_13820.jpg', 'vid_4_13840.jpg', 'vid_4_13860.jpg', 'vid_4_13880.jpg', 'vid_4_13900.jpg', 'vid_4_13920.jpg', 'vid_4_13940.jpg', 'vid_4_13960.jpg', 'vid_4_13980.jpg', 'vid_4_14040.jpg', 'vid_4_14060.jpg', 'vid_4_14080.jpg', 'vid_4_14100.jpg', 'vid_4_14120.jpg', 'vid_4_14140.jpg', 'vid_4_14160.jpg', 'vid_4_14180.jpg', 'vid_4_14200.jpg', 'vid_4_14220.jpg', 'vid_4_14240.jpg', 'vid_4_14260.jpg', 'vid_4_14280.jpg', 'vid_4_14300.jpg', 'vid_4_14320.jpg', 'vid_4_14340.jpg', 'vid_4_14360.jpg', 'vid_4_14380.jpg', 'vid_4_14400.jpg', 'vid_4_14420.jpg', 'vid_4_14440.jpg', 'vid_4_14460.jpg', 'vid_4_14480.jpg', 'vid_4_14500.jpg', 'vid_4_14520.jpg', 'vid_4_14540.jpg', 'vid_4_14560.jpg', 'vid_4_14580.jpg', 'vid_4_14600.jpg', 'vid_4_14620.jpg', 'vid_4_14640.jpg', 'vid_4_14660.jpg', 'vid_4_14680.jpg', 'vid_4_14700.jpg', 'vid_4_14720.jpg', 'vid_4_14740.jpg', 'vid_4_14760.jpg', 'vid_4_14780.jpg', 'vid_4_14800.jpg', 'vid_4_14820.jpg', 'vid_4_14840.jpg', 'vid_4_14860.jpg', 'vid_4_14880.jpg', 'vid_4_14900.jpg', 'vid_4_14920.jpg', 'vid_4_14940.jpg', 'vid_4_14960.jpg', 'vid_4_14980.jpg', 'vid_4_15000.jpg', 'vid_4_15020.jpg', 'vid_4_15040.jpg', 'vid_4_15060.jpg', 'vid_4_15080.jpg', 'vid_4_15100.jpg', 'vid_4_15120.jpg', 'vid_4_15140.jpg', 'vid_4_15160.jpg', 'vid_4_15180.jpg', 'vid_4_1520.jpg', 'vid_4_15200.jpg', 'vid_4_15220.jpg', 'vid_4_1540.jpg', 'vid_4_1560.jpg', 'vid_4_1580.jpg', 'vid_4_1600.jpg', 'vid_4_16000.jpg', 'vid_4_16020.jpg', 'vid_4_16040.jpg', 'vid_4_16060.jpg', 'vid_4_16080.jpg', 'vid_4_16100.jpg', 'vid_4_16120.jpg', 'vid_4_16140.jpg', 'vid_4_16160.jpg', 'vid_4_16180.jpg', 'vid_4_1620.jpg', 'vid_4_16200.jpg', 'vid_4_16220.jpg', 'vid_4_16240.jpg', 'vid_4_16260.jpg', 'vid_4_16280.jpg', 'vid_4_16300.jpg', 'vid_4_16320.jpg', 'vid_4_1640.jpg', 'vid_4_16400.jpg', 'vid_4_16420.jpg', 'vid_4_16440.jpg', 'vid_4_16460.jpg', 'vid_4_16480.jpg', 'vid_4_16500.jpg', 'vid_4_16520.jpg', 'vid_4_16540.jpg', 'vid_4_16560.jpg', 'vid_4_16580.jpg', 'vid_4_1660.jpg', 'vid_4_16600.jpg', 'vid_4_16620.jpg', 'vid_4_16640.jpg', 'vid_4_16660.jpg', 'vid_4_16680.jpg', 'vid_4_16700.jpg', 'vid_4_16720.jpg', 'vid_4_16740.jpg', 'vid_4_16760.jpg', 'vid_4_16780.jpg', 'vid_4_16800.jpg', 'vid_4_16820.jpg', 'vid_4_16900.jpg', 'vid_4_16920.jpg', 'vid_4_16940.jpg', 'vid_4_16960.jpg', 'vid_4_16980.jpg', 'vid_4_1700.jpg', 'vid_4_17000.jpg', 'vid_4_17020.jpg', 'vid_4_17040.jpg', 'vid_4_17060.jpg', 'vid_4_17080.jpg', 'vid_4_17100.jpg', 'vid_4_17120.jpg', 'vid_4_17140.jpg', 'vid_4_17160.jpg', 'vid_4_17180.jpg', 'vid_4_17200.jpg', 'vid_4_17220.jpg', 'vid_4_17240.jpg', 'vid_4_17260.jpg', 'vid_4_17280.jpg', 'vid_4_17300.jpg', 'vid_4_17320.jpg', 'vid_4_17340.jpg', 'vid_4_17360.jpg', 'vid_4_17380.jpg', 'vid_4_1740.jpg', 'vid_4_17400.jpg', 'vid_4_17420.jpg', 'vid_4_17440.jpg', 'vid_4_17460.jpg', 'vid_4_17480.jpg', 'vid_4_17500.jpg', 'vid_4_17520.jpg', 'vid_4_17540.jpg', 'vid_4_17560.jpg', 'vid_4_17580.jpg', 'vid_4_1760.jpg', 'vid_4_17600.jpg', 'vid_4_17620.jpg', 'vid_4_17640.jpg', 'vid_4_17660.jpg', 'vid_4_17680.jpg', 'vid_4_17700.jpg', 'vid_4_17720.jpg', 'vid_4_17740.jpg', 'vid_4_17760.jpg', 'vid_4_17780.jpg', 'vid_4_1780.jpg', 'vid_4_17800.jpg', 'vid_4_17820.jpg', 'vid_4_17840.jpg', 'vid_4_17860.jpg', 'vid_4_17880.jpg', 'vid_4_17900.jpg', 'vid_4_17920.jpg', 'vid_4_17940.jpg', 'vid_4_17960.jpg', 'vid_4_17980.jpg', 'vid_4_1800.jpg', 'vid_4_18000.jpg', 'vid_4_18080.jpg', 'vid_4_18100.jpg', 'vid_4_18120.jpg', 'vid_4_18140.jpg', 'vid_4_18160.jpg', 'vid_4_18180.jpg', 'vid_4_1820.jpg', 'vid_4_18200.jpg', 'vid_4_18220.jpg', 'vid_4_18240.jpg', 'vid_4_18260.jpg', 'vid_4_18280.jpg', 'vid_4_18300.jpg', 'vid_4_18320.jpg', 'vid_4_18340.jpg', 'vid_4_18360.jpg', 'vid_4_18380.jpg', 'vid_4_1840.jpg', 'vid_4_18400.jpg', 'vid_4_18420.jpg', 'vid_4_18440.jpg', 'vid_4_1860.jpg', 'vid_4_18640.jpg', 'vid_4_18660.jpg', 'vid_4_18680.jpg', 'vid_4_18700.jpg', 'vid_4_18720.jpg', 'vid_4_18740.jpg', 'vid_4_18760.jpg', 'vid_4_18780.jpg', 'vid_4_1880.jpg', 'vid_4_18800.jpg', 'vid_4_18820.jpg', 'vid_4_18840.jpg', 'vid_4_18860.jpg', 'vid_4_18880.jpg', 'vid_4_18900.jpg', 'vid_4_18920.jpg', 'vid_4_18940.jpg', 'vid_4_18960.jpg', 'vid_4_18980.jpg', 'vid_4_1900.jpg', 'vid_4_19000.jpg', 'vid_4_19020.jpg', 'vid_4_19040.jpg', 'vid_4_19060.jpg', 'vid_4_19080.jpg', 'vid_4_19100.jpg', 'vid_4_19120.jpg', 'vid_4_19140.jpg', 'vid_4_19160.jpg', 'vid_4_19180.jpg', 'vid_4_1920.jpg', 'vid_4_19200.jpg', 'vid_4_19220.jpg', 'vid_4_19240.jpg', 'vid_4_19260.jpg', 'vid_4_19280.jpg', 'vid_4_19300.jpg', 'vid_4_19320.jpg', 'vid_4_19340.jpg', 'vid_4_19360.jpg', 'vid_4_19380.jpg', 'vid_4_1940.jpg', 'vid_4_19400.jpg', 'vid_4_19420.jpg', 'vid_4_19440.jpg', 'vid_4_19460.jpg', 'vid_4_19480.jpg', 'vid_4_19500.jpg', 'vid_4_19520.jpg', 'vid_4_19540.jpg', 'vid_4_19560.jpg', 'vid_4_19580.jpg', 'vid_4_1960.jpg', 'vid_4_19600.jpg', 'vid_4_19620.jpg', 'vid_4_19640.jpg', 'vid_4_19660.jpg', 'vid_4_19680.jpg', 'vid_4_19700.jpg', 'vid_4_19720.jpg', 'vid_4_19740.jpg', 'vid_4_19760.jpg', 'vid_4_19780.jpg', 'vid_4_1980.jpg', 'vid_4_19800.jpg', 'vid_4_19820.jpg', 'vid_4_19840.jpg', 'vid_4_19860.jpg', 'vid_4_19880.jpg', 'vid_4_19900.jpg', 'vid_4_19920.jpg', 'vid_4_19940.jpg', 'vid_4_19960.jpg', 'vid_4_19980.jpg', 'vid_4_2000.jpg', 'vid_4_20000.jpg', 'vid_4_20020.jpg', 'vid_4_20040.jpg', 'vid_4_20060.jpg', 'vid_4_20080.jpg', 'vid_4_20100.jpg', 'vid_4_20120.jpg', 'vid_4_20140.jpg', 'vid_4_2020.jpg', 'vid_4_20240.jpg', 'vid_4_20260.jpg', 'vid_4_20280.jpg', 'vid_4_20300.jpg', 'vid_4_20320.jpg', 'vid_4_2040.jpg', 'vid_4_20440.jpg', 'vid_4_20460.jpg', 'vid_4_20480.jpg', 'vid_4_20500.jpg', 'vid_4_20520.jpg', 'vid_4_20540.jpg', 'vid_4_20560.jpg', 'vid_4_20580.jpg', 'vid_4_2060.jpg', 'vid_4_20780.jpg', 'vid_4_2080.jpg', 'vid_4_20800.jpg', 'vid_4_20820.jpg', 'vid_4_20840.jpg', 'vid_4_20860.jpg', 'vid_4_20880.jpg', 'vid_4_20900.jpg', 'vid_4_20920.jpg', 'vid_4_20940.jpg', 'vid_4_20960.jpg', 'vid_4_20980.jpg', 'vid_4_2100.jpg', 'vid_4_21000.jpg', 'vid_4_21020.jpg', 'vid_4_21040.jpg', 'vid_4_21060.jpg', 'vid_4_21080.jpg', 'vid_4_21100.jpg', 'vid_4_21120.jpg', 'vid_4_21140.jpg', 'vid_4_21160.jpg', 'vid_4_21180.jpg', 'vid_4_2120.jpg', 'vid_4_21200.jpg', 'vid_4_21220.jpg', 'vid_4_21240.jpg', 'vid_4_21260.jpg', 'vid_4_21280.jpg', 'vid_4_21300.jpg', 'vid_4_21320.jpg', 'vid_4_21340.jpg', 'vid_4_21360.jpg', 'vid_4_21380.jpg', 'vid_4_2140.jpg', 'vid_4_21400.jpg', 'vid_4_21420.jpg', 'vid_4_21440.jpg', 'vid_4_21460.jpg', 'vid_4_21480.jpg', 'vid_4_21500.jpg', 'vid_4_21520.jpg', 'vid_4_21540.jpg', 'vid_4_21560.jpg', 'vid_4_21580.jpg', 'vid_4_2160.jpg', 'vid_4_21600.jpg', 'vid_4_21620.jpg', 'vid_4_21640.jpg', 'vid_4_21660.jpg', 'vid_4_21680.jpg', 'vid_4_21700.jpg', 'vid_4_21720.jpg', 'vid_4_21740.jpg', 'vid_4_2180.jpg', 'vid_4_21800.jpg', 'vid_4_21820.jpg', 'vid_4_21840.jpg', 'vid_4_21860.jpg', 'vid_4_21880.jpg', 'vid_4_21900.jpg', 'vid_4_21920.jpg', 'vid_4_21940.jpg', 'vid_4_21960.jpg', 'vid_4_21980.jpg', 'vid_4_2200.jpg', 'vid_4_22000.jpg', 'vid_4_22020.jpg', 'vid_4_22040.jpg', 'vid_4_22060.jpg', 'vid_4_22080.jpg', 'vid_4_22100.jpg', 'vid_4_22120.jpg', 'vid_4_22140.jpg', 'vid_4_22160.jpg', 'vid_4_22180.jpg', 'vid_4_2220.jpg', 'vid_4_22200.jpg', 'vid_4_22220.jpg', 'vid_4_22240.jpg', 'vid_4_22260.jpg', 'vid_4_22280.jpg', 'vid_4_22300.jpg', 'vid_4_22320.jpg', 'vid_4_22340.jpg', 'vid_4_22360.jpg', 'vid_4_22380.jpg', 'vid_4_2240.jpg', 'vid_4_22400.jpg', 'vid_4_22420.jpg', 'vid_4_22440.jpg', 'vid_4_22460.jpg', 'vid_4_22480.jpg', 'vid_4_22500.jpg', 'vid_4_22520.jpg', 'vid_4_22540.jpg', 'vid_4_22560.jpg', 'vid_4_22580.jpg', 'vid_4_2260.jpg', 'vid_4_22600.jpg', 'vid_4_22620.jpg', 'vid_4_22640.jpg', 'vid_4_22660.jpg', 'vid_4_22680.jpg', 'vid_4_22700.jpg', 'vid_4_22720.jpg', 'vid_4_22740.jpg', 'vid_4_22760.jpg', 'vid_4_22780.jpg', 'vid_4_2280.jpg', 'vid_4_22800.jpg', 'vid_4_22820.jpg', 'vid_4_22840.jpg', 'vid_4_22860.jpg', 'vid_4_22880.jpg', 'vid_4_22900.jpg', 'vid_4_22920.jpg', 'vid_4_22940.jpg', 'vid_4_22960.jpg', 'vid_4_22980.jpg', 'vid_4_2300.jpg', 'vid_4_23000.jpg', 'vid_4_23020.jpg', 'vid_4_23040.jpg', 'vid_4_23060.jpg', 'vid_4_23080.jpg', 'vid_4_23100.jpg', 'vid_4_23120.jpg', 'vid_4_23140.jpg', 'vid_4_23160.jpg', 'vid_4_23180.jpg', 'vid_4_2320.jpg', 'vid_4_23200.jpg', 'vid_4_23220.jpg', 'vid_4_23240.jpg', 'vid_4_23260.jpg', 'vid_4_23280.jpg', 'vid_4_23300.jpg', 'vid_4_23320.jpg', 'vid_4_23340.jpg', 'vid_4_23360.jpg', 'vid_4_23380.jpg', 'vid_4_2340.jpg', 'vid_4_23400.jpg', 'vid_4_23420.jpg', 'vid_4_23440.jpg', 'vid_4_23460.jpg', 'vid_4_23480.jpg', 'vid_4_23500.jpg', 'vid_4_23520.jpg', 'vid_4_23540.jpg', 'vid_4_23560.jpg', 'vid_4_23580.jpg', 'vid_4_2360.jpg', 'vid_4_23600.jpg', 'vid_4_23620.jpg', 'vid_4_23640.jpg', 'vid_4_2380.jpg', 'vid_4_2400.jpg', 'vid_4_2420.jpg', 'vid_4_2440.jpg', 'vid_4_2460.jpg', 'vid_4_24760.jpg', 'vid_4_24780.jpg', 'vid_4_2480.jpg', 'vid_4_24800.jpg', 'vid_4_24820.jpg', 'vid_4_24840.jpg', 'vid_4_24860.jpg', 'vid_4_24880.jpg', 'vid_4_24900.jpg', 'vid_4_24920.jpg', 'vid_4_24940.jpg', 'vid_4_24960.jpg', 'vid_4_2500.jpg', 'vid_4_2520.jpg', 'vid_4_2540.jpg', 'vid_4_2560.jpg', 'vid_4_25820.jpg', 'vid_4_25840.jpg', 'vid_4_25860.jpg', 'vid_4_25880.jpg', 'vid_4_25900.jpg', 'vid_4_25920.jpg', 'vid_4_25940.jpg', 'vid_4_25960.jpg', 'vid_4_25980.jpg', 'vid_4_26000.jpg', 'vid_4_26020.jpg', 'vid_4_26040.jpg', 'vid_4_26060.jpg', 'vid_4_26080.jpg', 'vid_4_26100.jpg', 'vid_4_26120.jpg', 'vid_4_26140.jpg', 'vid_4_26160.jpg', 'vid_4_26180.jpg', 'vid_4_26200.jpg', 'vid_4_26220.jpg', 'vid_4_26240.jpg', 'vid_4_26260.jpg', 'vid_4_26280.jpg', 'vid_4_26300.jpg', 'vid_4_26320.jpg', 'vid_4_26340.jpg', 'vid_4_26360.jpg', 'vid_4_26380.jpg', 'vid_4_26400.jpg', 'vid_4_26420.jpg', 'vid_4_26440.jpg', 'vid_4_26460.jpg', 'vid_4_26480.jpg', 'vid_4_26500.jpg', 'vid_4_26520.jpg', 'vid_4_26540.jpg', 'vid_4_26560.jpg', 'vid_4_26580.jpg', 'vid_4_26600.jpg', 'vid_4_26620.jpg', 'vid_4_26640.jpg', 'vid_4_26660.jpg', 'vid_4_26680.jpg', 'vid_4_26700.jpg', 'vid_4_26720.jpg', 'vid_4_26740.jpg', 'vid_4_26760.jpg', 'vid_4_26780.jpg', 'vid_4_27040.jpg', 'vid_4_27060.jpg', 'vid_4_27080.jpg', 'vid_4_27100.jpg', 'vid_4_27120.jpg', 'vid_4_27140.jpg', 'vid_4_27160.jpg', 'vid_4_27180.jpg', 'vid_4_27200.jpg', 'vid_4_27220.jpg', 'vid_4_27240.jpg', 'vid_4_27260.jpg', 'vid_4_27280.jpg', 'vid_4_28200.jpg', 'vid_4_28220.jpg', 'vid_4_28240.jpg', 'vid_4_28260.jpg', 'vid_4_28280.jpg', 'vid_4_28300.jpg', 'vid_4_28320.jpg', 'vid_4_28340.jpg', 'vid_4_28360.jpg', 'vid_4_28380.jpg', 'vid_4_28400.jpg', 'vid_4_28420.jpg', 'vid_4_28440.jpg', 'vid_4_28820.jpg', 'vid_4_28840.jpg', 'vid_4_28860.jpg', 'vid_4_28880.jpg', 'vid_4_29280.jpg', 'vid_4_29300.jpg', 'vid_4_29320.jpg', 'vid_4_29340.jpg', 'vid_4_29360.jpg', 'vid_4_29380.jpg', 'vid_4_29400.jpg', 'vid_4_29420.jpg', 'vid_4_29440.jpg', 'vid_4_29460.jpg', 'vid_4_29480.jpg', 'vid_4_29500.jpg', 'vid_4_29520.jpg', 'vid_4_29540.jpg', 'vid_4_29560.jpg', 'vid_4_29580.jpg', 'vid_4_29600.jpg', 'vid_4_29620.jpg', 'vid_4_29640.jpg', 'vid_4_29660.jpg', 'vid_4_29680.jpg', 'vid_4_29700.jpg', 'vid_4_29720.jpg', 'vid_4_29740.jpg', 'vid_4_29760.jpg', 'vid_4_29880.jpg', 'vid_4_29900.jpg', 'vid_4_29920.jpg', 'vid_4_29940.jpg', 'vid_4_29960.jpg', 'vid_4_29980.jpg', 'vid_4_30000.jpg', 'vid_4_30020.jpg', 'vid_4_30440.jpg', 'vid_4_3120.jpg', 'vid_4_3140.jpg', 'vid_4_3160.jpg', 'vid_4_3180.jpg', 'vid_4_3200.jpg', 'vid_4_3220.jpg', 'vid_4_3240.jpg', 'vid_4_3260.jpg', 'vid_4_3280.jpg', 'vid_4_3300.jpg', 'vid_4_3320.jpg', 'vid_4_3340.jpg', 'vid_4_3360.jpg', 'vid_4_3380.jpg', 'vid_4_3400.jpg', 'vid_4_3420.jpg', 'vid_4_3440.jpg', 'vid_4_3460.jpg', 'vid_4_3480.jpg', 'vid_4_3500.jpg', 'vid_4_3520.jpg', 'vid_4_3540.jpg', 'vid_4_3560.jpg', 'vid_4_3580.jpg', 'vid_4_3600.jpg', 'vid_4_3620.jpg', 'vid_4_3640.jpg', 'vid_4_3660.jpg', 'vid_4_3680.jpg', 'vid_4_3700.jpg', 'vid_4_3720.jpg', 'vid_4_3740.jpg', 'vid_4_3760.jpg', 'vid_4_3780.jpg', 'vid_4_3800.jpg', 'vid_4_3820.jpg', 'vid_4_3840.jpg', 'vid_4_3860.jpg', 'vid_4_3880.jpg', 'vid_4_3900.jpg', 'vid_4_3920.jpg', 'vid_4_3940.jpg', 'vid_4_3960.jpg', 'vid_4_3980.jpg', 'vid_4_4000.jpg', 'vid_4_4020.jpg', 'vid_4_4040.jpg', 'vid_4_4060.jpg', 'vid_4_4080.jpg', 'vid_4_4100.jpg', 'vid_4_4120.jpg', 'vid_4_4140.jpg', 'vid_4_4160.jpg', 'vid_4_4180.jpg', 'vid_4_4380.jpg', 'vid_4_4400.jpg', 'vid_4_4420.jpg', 'vid_4_4520.jpg', 'vid_4_4540.jpg', 'vid_4_4560.jpg', 'vid_4_4580.jpg', 'vid_4_4600.jpg', 'vid_4_4620.jpg', 'vid_4_4640.jpg', 'vid_4_5640.jpg', 'vid_4_5660.jpg', 'vid_4_5680.jpg', 'vid_4_5700.jpg', 'vid_4_5720.jpg', 'vid_4_5740.jpg', 'vid_4_5760.jpg', 'vid_4_5780.jpg', 'vid_4_5800.jpg', 'vid_4_5820.jpg', 'vid_4_5840.jpg', 'vid_4_5860.jpg', 'vid_4_5880.jpg', 'vid_4_5900.jpg', 'vid_4_5920.jpg', 'vid_4_600.jpg', 'vid_4_6080.jpg', 'vid_4_6100.jpg', 'vid_4_6120.jpg', 'vid_4_6140.jpg', 'vid_4_6160.jpg', 'vid_4_6180.jpg', 'vid_4_620.jpg', 'vid_4_6200.jpg', 'vid_4_6220.jpg', 'vid_4_6240.jpg', 'vid_4_6260.jpg', 'vid_4_6280.jpg', 'vid_4_6300.jpg', 'vid_4_6320.jpg', 'vid_4_6340.jpg', 'vid_4_6360.jpg', 'vid_4_6380.jpg', 'vid_4_640.jpg', 'vid_4_6400.jpg', 'vid_4_6420.jpg', 'vid_4_6440.jpg', 'vid_4_6460.jpg', 'vid_4_6480.jpg', 'vid_4_6500.jpg', 'vid_4_6520.jpg', 'vid_4_6540.jpg', 'vid_4_6560.jpg', 'vid_4_6580.jpg', 'vid_4_660.jpg', 'vid_4_6600.jpg', 'vid_4_6780.jpg', 'vid_4_680.jpg', 'vid_4_6800.jpg', 'vid_4_6820.jpg', 'vid_4_6880.jpg', 'vid_4_6900.jpg', 'vid_4_6920.jpg', 'vid_4_6940.jpg', 'vid_4_6960.jpg', 'vid_4_6980.jpg', 'vid_4_700.jpg', 'vid_4_7000.jpg', 'vid_4_7020.jpg', 'vid_4_7040.jpg', 'vid_4_7060.jpg', 'vid_4_7080.jpg', 'vid_4_7100.jpg', 'vid_4_7120.jpg', 'vid_4_7140.jpg', 'vid_4_7160.jpg', 'vid_4_7180.jpg', 'vid_4_720.jpg', 'vid_4_7200.jpg', 'vid_4_7220.jpg', 'vid_4_7240.jpg', 'vid_4_7260.jpg', 'vid_4_7280.jpg', 'vid_4_7300.jpg', 'vid_4_7320.jpg', 'vid_4_7340.jpg', 'vid_4_7360.jpg', 'vid_4_7380.jpg', 'vid_4_740.jpg', 'vid_4_7400.jpg', 'vid_4_7420.jpg', 'vid_4_7440.jpg', 'vid_4_7460.jpg', 'vid_4_7480.jpg', 'vid_4_7500.jpg', 'vid_4_7520.jpg', 'vid_4_7540.jpg', 'vid_4_7560.jpg', 'vid_4_7580.jpg', 'vid_4_760.jpg', 'vid_4_7600.jpg', 'vid_4_7620.jpg', 'vid_4_7640.jpg', 'vid_4_7660.jpg', 'vid_4_7680.jpg', 'vid_4_7700.jpg', 'vid_4_7720.jpg', 'vid_4_7740.jpg', 'vid_4_7760.jpg', 'vid_4_780.jpg', 'vid_4_800.jpg', 'vid_4_820.jpg', 'vid_4_8220.jpg', 'vid_4_8240.jpg', 'vid_4_8260.jpg', 'vid_4_8280.jpg', 'vid_4_8300.jpg', 'vid_4_8320.jpg', 'vid_4_8340.jpg', 'vid_4_8560.jpg', 'vid_4_8580.jpg', 'vid_4_860.jpg', 'vid_4_8600.jpg', 'vid_4_8620.jpg', 'vid_4_8640.jpg', 'vid_4_8660.jpg', 'vid_4_8680.jpg', 'vid_4_8700.jpg', 'vid_4_8720.jpg', 'vid_4_8740.jpg', 'vid_4_8760.jpg', 'vid_4_8780.jpg', 'vid_4_880.jpg', 'vid_4_8800.jpg', 'vid_4_8960.jpg', 'vid_4_8980.jpg', 'vid_4_900.jpg', 'vid_4_9000.jpg', 'vid_4_9020.jpg', 'vid_4_9040.jpg', 'vid_4_9060.jpg', 'vid_4_9080.jpg', 'vid_4_9100.jpg', 'vid_4_9120.jpg', 'vid_4_9140.jpg', 'vid_4_9160.jpg', 'vid_4_9180.jpg', 'vid_4_920.jpg', 'vid_4_9200.jpg', 'vid_4_9220.jpg', 'vid_4_9240.jpg', 'vid_4_9260.jpg', 'vid_4_9280.jpg', 'vid_4_9300.jpg', 'vid_4_9320.jpg', 'vid_4_9340.jpg', 'vid_4_9360.jpg', 'vid_4_9380.jpg', 'vid_4_940.jpg', 'vid_4_9400.jpg', 'vid_4_9420.jpg', 'vid_4_9440.jpg', 'vid_4_9460.jpg', 'vid_4_9480.jpg', 'vid_4_9500.jpg', 'vid_4_9520.jpg', 'vid_4_9540.jpg', 'vid_4_9560.jpg', 'vid_4_9580.jpg', 'vid_4_960.jpg', 'vid_4_9600.jpg', 'vid_4_9620.jpg', 'vid_4_9640.jpg', 'vid_4_9660.jpg', 'vid_4_9680.jpg', 'vid_4_9700.jpg', 'vid_4_9720.jpg', 'vid_4_9740.jpg', 'vid_4_9760.jpg', 'vid_4_9780.jpg', 'vid_4_980.jpg', 'vid_4_9800.jpg', 'vid_4_9820.jpg', 'vid_4_9840.jpg', 'vid_4_9860.jpg', 'vid_4_9880.jpg', 'vid_4_9900.jpg', 'vid_4_9920.jpg', 'vid_4_9940.jpg', 'vid_4_9960.jpg', 'vid_4_9980.jpg']\n"
     ]
    }
   ],
   "source": [
    "imgs_list = list(sorted(os.listdir(train_imgs_dir)))\n",
    "print(imgs_list)\n",
    "idxs = list(range(len(imgs_list)))\n",
    "np.random.shuffle(idxs)\n",
    "train_idx = idxs[:int(0.8*len(idxs))]\n",
    "val_idx = idxs[int(0.8*len(idxs)):]"
   ]
  },
  {
   "cell_type": "code",
   "execution_count": 31,
   "metadata": {},
   "outputs": [
    {
     "name": "stderr",
     "output_type": "stream",
     "text": [
      "A subdirectory or file working/data already exists.\n"
     ]
    }
   ],
   "source": [
    "!mkdir \"working/data\"\n",
    "!mkdir \"working/data/images\"\n",
    "\n",
    "!mkdir \"working/data/images/train\"\n",
    "!mkdir \"working/data/images/val\"\n",
    "\n",
    "########################################\n",
    "!mkdir \"working/data/labels\"\n",
    "\n",
    "!mkdir \"working/data/labels/train\"\n",
    "!mkdir \"working/data/labels/val\""
   ]
  },
  {
   "cell_type": "code",
   "execution_count": 32,
   "metadata": {},
   "outputs": [],
   "source": [
    "root_dir = \"working/data\"\n",
    "labels_dir = \"working/data/labels\"\n",
    "images_dir = \"working/data/images\""
   ]
  },
  {
   "cell_type": "code",
   "execution_count": 37,
   "metadata": {},
   "outputs": [
    {
     "data": {
      "text/html": [
       "<div>\n",
       "<style scoped>\n",
       "    .dataframe tbody tr th:only-of-type {\n",
       "        vertical-align: middle;\n",
       "    }\n",
       "\n",
       "    .dataframe tbody tr th {\n",
       "        vertical-align: top;\n",
       "    }\n",
       "\n",
       "    .dataframe thead th {\n",
       "        text-align: right;\n",
       "    }\n",
       "</style>\n",
       "<table border=\"1\" class=\"dataframe\">\n",
       "  <thead>\n",
       "    <tr style=\"text-align: right;\">\n",
       "      <th></th>\n",
       "      <th>img_name</th>\n",
       "      <th>class</th>\n",
       "      <th>x_centre</th>\n",
       "      <th>y_centre</th>\n",
       "      <th>width</th>\n",
       "      <th>height</th>\n",
       "    </tr>\n",
       "  </thead>\n",
       "  <tbody>\n",
       "    <tr>\n",
       "      <th>0</th>\n",
       "      <td>vid_4_1000.jpg</td>\n",
       "      <td>0</td>\n",
       "      <td>0.450434</td>\n",
       "      <td>0.539817</td>\n",
       "      <td>0.068741</td>\n",
       "      <td>0.095238</td>\n",
       "    </tr>\n",
       "    <tr>\n",
       "      <th>1</th>\n",
       "      <td>vid_4_10000.jpg</td>\n",
       "      <td>0</td>\n",
       "      <td>0.100217</td>\n",
       "      <td>0.557191</td>\n",
       "      <td>0.155572</td>\n",
       "      <td>0.129987</td>\n",
       "    </tr>\n",
       "    <tr>\n",
       "      <th>2</th>\n",
       "      <td>vid_4_10040.jpg</td>\n",
       "      <td>0</td>\n",
       "      <td>0.444645</td>\n",
       "      <td>0.543678</td>\n",
       "      <td>0.181621</td>\n",
       "      <td>0.157014</td>\n",
       "    </tr>\n",
       "    <tr>\n",
       "      <th>3</th>\n",
       "      <td>vid_4_10020.jpg</td>\n",
       "      <td>0</td>\n",
       "      <td>0.833213</td>\n",
       "      <td>0.531451</td>\n",
       "      <td>0.197540</td>\n",
       "      <td>0.155727</td>\n",
       "    </tr>\n",
       "    <tr>\n",
       "      <th>4</th>\n",
       "      <td>vid_4_10060.jpg</td>\n",
       "      <td>0</td>\n",
       "      <td>0.110347</td>\n",
       "      <td>0.559122</td>\n",
       "      <td>0.171491</td>\n",
       "      <td>0.136422</td>\n",
       "    </tr>\n",
       "  </tbody>\n",
       "</table>\n",
       "</div>"
      ],
      "text/plain": [
       "          img_name  class  x_centre  y_centre     width    height\n",
       "0   vid_4_1000.jpg      0  0.450434  0.539817  0.068741  0.095238\n",
       "1  vid_4_10000.jpg      0  0.100217  0.557191  0.155572  0.129987\n",
       "2  vid_4_10040.jpg      0  0.444645  0.543678  0.181621  0.157014\n",
       "3  vid_4_10020.jpg      0  0.833213  0.531451  0.197540  0.155727\n",
       "4  vid_4_10060.jpg      0  0.110347  0.559122  0.171491  0.136422"
      ]
     },
     "execution_count": 37,
     "metadata": {},
     "output_type": "execute_result"
    }
   ],
   "source": [
    "df = pd.read_csv(train_labels)\n",
    "width = 676\n",
    "height = 380\n",
    "\n",
    "df['class'] = 0\n",
    "\n",
    "df.rename(columns = {'image':'img_name'}, inplace=True)\n",
    "# print(df)\n",
    "\n",
    "df[\"x_centre\"] = (df[\"xmin\"] + df['xmax'])/2\n",
    "df[\"y_centre\"] = (df[\"ymin\"] + df[\"ymax\"])/2\n",
    "df[\"width\"] = (df[\"xmax\"] - df[\"xmin\"])\n",
    "df[\"height\"] = (df[\"ymax\"] - df[\"ymin\"])\n",
    "\n",
    "df[\"x_centre\"] = df[\"x_centre\"]/width\n",
    "df[\"y_centre\"] = df[\"y_centre\"]/height\n",
    "df[\"width\"] = df[\"width\"]/width\n",
    "df[\"height\"] = df[\"height\"]/height\n",
    "\n",
    "df_yolo = df[[\"img_name\", \"class\", \"x_centre\", \"y_centre\", \"width\", \"height\"]]\n",
    "df_yolo.head()\n",
    "              "
   ]
  },
  {
   "cell_type": "code",
   "execution_count": 80,
   "metadata": {},
   "outputs": [],
   "source": [
    "for idx, img_name in enumerate(imgs_list):\n",
    "    subset = \"train\"\n",
    "    if idx in val_idx:\n",
    "        subset = \"val\"\n",
    "    # print(img_name[:-4])\n",
    "    if np.isin(img_name, df_yolo[\"img_name\"]):\n",
    "        columns = [\"class\", \"x_centre\", \"y_centre\", \"width\", \"height\"]\n",
    "        img_bbox = df_yolo[df_yolo[\"img_name\"] == img_name][columns].values\n",
    "        # print(type(img_bbox))\n",
    "        # print(img_bbox)\n",
    "        \n",
    "        label_file_path = os.path.join(labels_dir, subset, f\"{img_name[:-4]}.txt\")\n",
    "        with open(label_file_path, \"w+\") as f:\n",
    "            for row in img_bbox:\n",
    "                # print(type(row))\n",
    "                text = \" \".join(row.astype(str))\n",
    "                \n",
    "                # print(text)\n",
    "                f.write(text)\n",
    "                f.write(\"\\n\")\n",
    "        \n",
    "    old_image_path = os.path.join(train_imgs_dir, img_name)\n",
    "    new_image_path = os.path.join(images_dir, subset, img_name)\n",
    "    shutil.copy(old_image_path, new_image_path)\n",
    "                \n",
    "        "
   ]
  },
  {
   "cell_type": "code",
   "execution_count": 81,
   "metadata": {},
   "outputs": [],
   "source": [
    "yolo_format = dict(path = \"D:/JJPES/projects/Yolo_car_detection/working/data\", train=\"D:/JJPES/projects/Yolo_car_detection/working/data/images/train\", val=\"D:/JJPES/projects/Yolo_car_detection/working/data/images/val\", nc=1, names={0:\"car\"})\n",
    "with open(\"working/yolo.yaml\", \"w\") as outfile:\n",
    "    yaml.dump(yolo_format, outfile, default_flow_style=False)"
   ]
  },
  {
   "cell_type": "code",
   "execution_count": 82,
   "metadata": {},
   "outputs": [
    {
     "name": "stderr",
     "output_type": "stream",
     "text": [
      "\u001b[34m\u001b[1mwandb\u001b[0m: \u001b[33mWARNING\u001b[0m Calling wandb.login() after wandb.init() has no effect.\n"
     ]
    },
    {
     "data": {
      "text/plain": [
       "True"
      ]
     },
     "execution_count": 82,
     "metadata": {},
     "output_type": "execute_result"
    }
   ],
   "source": [
    "my_secret = \"6b360d8d41ebffe97e09ee9bfb8890b9d3bcc245\"\n",
    "wandb.login(key = my_secret)"
   ]
  },
  {
   "cell_type": "code",
   "execution_count": 85,
   "metadata": {},
   "outputs": [],
   "source": [
    "model = YOLO('yolov8m.pt')"
   ]
  },
  {
   "cell_type": "code",
   "execution_count": 86,
   "metadata": {},
   "outputs": [
    {
     "name": "stderr",
     "output_type": "stream",
     "text": [
      "New https://pypi.org/project/ultralytics/8.0.166 available  Update with 'pip install -U ultralytics'\n",
      "Ultralytics YOLOv8.0.165  Python-3.11.4 torch-2.0.1+cpu CPU (Intel Core(TM) i7-7600U 2.80GHz)\n",
      "\u001b[34m\u001b[1mengine\\trainer: \u001b[0mtask=detect, mode=train, model=yolov8m.pt, data=working/yolo.yaml, epochs=2, patience=5, batch=8, imgsz=640, save=True, save_period=-1, cache=False, device=None, workers=8, project=None, name=None, exist_ok=False, pretrained=True, optimizer=auto, verbose=True, seed=0, deterministic=True, single_cls=False, rect=False, cos_lr=False, close_mosaic=10, resume=False, amp=True, fraction=1.0, profile=False, freeze=None, overlap_mask=True, mask_ratio=4, dropout=0.0, val=True, split=val, save_json=False, save_hybrid=False, conf=None, iou=0.7, max_det=300, half=False, dnn=False, plots=True, source=None, show=False, save_txt=False, save_conf=False, save_crop=False, show_labels=True, show_conf=True, vid_stride=1, stream_buffer=False, line_width=None, visualize=False, augment=False, agnostic_nms=False, classes=None, retina_masks=False, boxes=True, format=torchscript, keras=False, optimize=False, int8=False, dynamic=False, simplify=False, opset=None, workspace=4, nms=False, lr0=0.0005, lrf=0.01, momentum=0.937, weight_decay=0.0005, warmup_epochs=3.0, warmup_momentum=0.8, warmup_bias_lr=0.1, box=7.5, cls=0.5, dfl=1.5, pose=12.0, kobj=1.0, label_smoothing=0.0, nbs=64, hsv_h=0.015, hsv_s=0.7, hsv_v=0.4, degrees=0.0, translate=0.1, scale=0.5, shear=0.0, perspective=0.0, flipud=0.0, fliplr=0.5, mosaic=1.0, mixup=0.0, copy_paste=0.0, cfg=None, tracker=botsort.yaml, save_dir=runs\\detect\\train11\n"
     ]
    },
    {
     "ename": "RuntimeError",
     "evalue": "Dataset 'working/yolo.yaml' error  \nDataset 'working/yolo.yaml' images not found , missing path 'D:\\JJPES\\projects\\Yolo_car_detection\\datasets\\working\\data\\working\\data\\images\\val'\nNote dataset download directory is 'D:\\JJPES\\projects\\Yolo_car_detection\\datasets'. You can update this in 'C:\\Users\\admin\\AppData\\Roaming\\Ultralytics\\settings.yaml'",
     "output_type": "error",
     "traceback": [
      "\u001b[1;31m---------------------------------------------------------------------------\u001b[0m",
      "\u001b[1;31mFileNotFoundError\u001b[0m                         Traceback (most recent call last)",
      "File \u001b[1;32mc:\\Users\\admin\\AppData\\Local\\Programs\\Python\\Python311\\Lib\\site-packages\\ultralytics\\engine\\trainer.py:119\u001b[0m, in \u001b[0;36mBaseTrainer.__init__\u001b[1;34m(self, cfg, overrides, _callbacks)\u001b[0m\n\u001b[0;32m    118\u001b[0m \u001b[39melif\u001b[39;00m \u001b[39mself\u001b[39m\u001b[39m.\u001b[39margs\u001b[39m.\u001b[39mdata\u001b[39m.\u001b[39msplit(\u001b[39m'\u001b[39m\u001b[39m.\u001b[39m\u001b[39m'\u001b[39m)[\u001b[39m-\u001b[39m\u001b[39m1\u001b[39m] \u001b[39min\u001b[39;00m (\u001b[39m'\u001b[39m\u001b[39myaml\u001b[39m\u001b[39m'\u001b[39m, \u001b[39m'\u001b[39m\u001b[39myml\u001b[39m\u001b[39m'\u001b[39m) \u001b[39mor\u001b[39;00m \u001b[39mself\u001b[39m\u001b[39m.\u001b[39margs\u001b[39m.\u001b[39mtask \u001b[39min\u001b[39;00m (\u001b[39m'\u001b[39m\u001b[39mdetect\u001b[39m\u001b[39m'\u001b[39m, \u001b[39m'\u001b[39m\u001b[39msegment\u001b[39m\u001b[39m'\u001b[39m):\n\u001b[1;32m--> 119\u001b[0m     \u001b[39mself\u001b[39m\u001b[39m.\u001b[39mdata \u001b[39m=\u001b[39m check_det_dataset(\u001b[39mself\u001b[39;49m\u001b[39m.\u001b[39;49margs\u001b[39m.\u001b[39;49mdata)\n\u001b[0;32m    120\u001b[0m     \u001b[39mif\u001b[39;00m \u001b[39m'\u001b[39m\u001b[39myaml_file\u001b[39m\u001b[39m'\u001b[39m \u001b[39min\u001b[39;00m \u001b[39mself\u001b[39m\u001b[39m.\u001b[39mdata:\n",
      "File \u001b[1;32mc:\\Users\\admin\\AppData\\Local\\Programs\\Python\\Python311\\Lib\\site-packages\\ultralytics\\data\\utils.py:281\u001b[0m, in \u001b[0;36mcheck_det_dataset\u001b[1;34m(dataset, autodownload)\u001b[0m\n\u001b[0;32m    280\u001b[0m     m \u001b[39m+\u001b[39m\u001b[39m=\u001b[39m \u001b[39mf\u001b[39m\u001b[39m\"\u001b[39m\u001b[39m\\n\u001b[39;00m\u001b[39mNote dataset download directory is \u001b[39m\u001b[39m'\u001b[39m\u001b[39m{\u001b[39;00mDATASETS_DIR\u001b[39m}\u001b[39;00m\u001b[39m'\u001b[39m\u001b[39m. You can update this in \u001b[39m\u001b[39m'\u001b[39m\u001b[39m{\u001b[39;00mSETTINGS_YAML\u001b[39m}\u001b[39;00m\u001b[39m'\u001b[39m\u001b[39m\"\u001b[39m\n\u001b[1;32m--> 281\u001b[0m     \u001b[39mraise\u001b[39;00m \u001b[39mFileNotFoundError\u001b[39;00m(m)\n\u001b[0;32m    282\u001b[0m t \u001b[39m=\u001b[39m time\u001b[39m.\u001b[39mtime()\n",
      "\u001b[1;31mFileNotFoundError\u001b[0m: \nDataset 'working/yolo.yaml' images not found ⚠️, missing path 'D:\\JJPES\\projects\\Yolo_car_detection\\datasets\\working\\data\\working\\data\\images\\val'\nNote dataset download directory is 'D:\\JJPES\\projects\\Yolo_car_detection\\datasets'. You can update this in 'C:\\Users\\admin\\AppData\\Roaming\\Ultralytics\\settings.yaml'",
      "\nThe above exception was the direct cause of the following exception:\n",
      "\u001b[1;31mRuntimeError\u001b[0m                              Traceback (most recent call last)",
      "Cell \u001b[1;32mIn[86], line 1\u001b[0m\n\u001b[1;32m----> 1\u001b[0m model\u001b[39m.\u001b[39;49mtrain(data\u001b[39m=\u001b[39;49m\u001b[39m'\u001b[39;49m\u001b[39mworking/yolo.yaml\u001b[39;49m\u001b[39m'\u001b[39;49m, epochs\u001b[39m=\u001b[39;49m\u001b[39m2\u001b[39;49m, patience\u001b[39m=\u001b[39;49m\u001b[39m5\u001b[39;49m, batch\u001b[39m=\u001b[39;49m\u001b[39m8\u001b[39;49m, lr0\u001b[39m=\u001b[39;49m\u001b[39m0.0005\u001b[39;49m, imgsz\u001b[39m=\u001b[39;49m\u001b[39m640\u001b[39;49m)\n",
      "File \u001b[1;32mc:\\Users\\admin\\AppData\\Local\\Programs\\Python\\Python311\\Lib\\site-packages\\ultralytics\\engine\\model.py:336\u001b[0m, in \u001b[0;36mModel.train\u001b[1;34m(self, trainer, **kwargs)\u001b[0m\n\u001b[0;32m    333\u001b[0m \u001b[39mif\u001b[39;00m args\u001b[39m.\u001b[39mget(\u001b[39m'\u001b[39m\u001b[39mresume\u001b[39m\u001b[39m'\u001b[39m):\n\u001b[0;32m    334\u001b[0m     args[\u001b[39m'\u001b[39m\u001b[39mresume\u001b[39m\u001b[39m'\u001b[39m] \u001b[39m=\u001b[39m \u001b[39mself\u001b[39m\u001b[39m.\u001b[39mckpt_path\n\u001b[1;32m--> 336\u001b[0m \u001b[39mself\u001b[39m\u001b[39m.\u001b[39mtrainer \u001b[39m=\u001b[39m (trainer \u001b[39mor\u001b[39;49;00m \u001b[39mself\u001b[39;49m\u001b[39m.\u001b[39;49msmart_load(\u001b[39m'\u001b[39;49m\u001b[39mtrainer\u001b[39;49m\u001b[39m'\u001b[39;49m))(overrides\u001b[39m=\u001b[39;49margs, _callbacks\u001b[39m=\u001b[39;49m\u001b[39mself\u001b[39;49m\u001b[39m.\u001b[39;49mcallbacks)\n\u001b[0;32m    337\u001b[0m \u001b[39mif\u001b[39;00m \u001b[39mnot\u001b[39;00m args\u001b[39m.\u001b[39mget(\u001b[39m'\u001b[39m\u001b[39mresume\u001b[39m\u001b[39m'\u001b[39m):  \u001b[39m# manually set model only if not resuming\u001b[39;00m\n\u001b[0;32m    338\u001b[0m     \u001b[39mself\u001b[39m\u001b[39m.\u001b[39mtrainer\u001b[39m.\u001b[39mmodel \u001b[39m=\u001b[39m \u001b[39mself\u001b[39m\u001b[39m.\u001b[39mtrainer\u001b[39m.\u001b[39mget_model(weights\u001b[39m=\u001b[39m\u001b[39mself\u001b[39m\u001b[39m.\u001b[39mmodel \u001b[39mif\u001b[39;00m \u001b[39mself\u001b[39m\u001b[39m.\u001b[39mckpt \u001b[39melse\u001b[39;00m \u001b[39mNone\u001b[39;00m, cfg\u001b[39m=\u001b[39m\u001b[39mself\u001b[39m\u001b[39m.\u001b[39mmodel\u001b[39m.\u001b[39myaml)\n",
      "File \u001b[1;32mc:\\Users\\admin\\AppData\\Local\\Programs\\Python\\Python311\\Lib\\site-packages\\ultralytics\\engine\\trainer.py:123\u001b[0m, in \u001b[0;36mBaseTrainer.__init__\u001b[1;34m(self, cfg, overrides, _callbacks)\u001b[0m\n\u001b[0;32m    121\u001b[0m             \u001b[39mself\u001b[39m\u001b[39m.\u001b[39margs\u001b[39m.\u001b[39mdata \u001b[39m=\u001b[39m \u001b[39mself\u001b[39m\u001b[39m.\u001b[39mdata[\u001b[39m'\u001b[39m\u001b[39myaml_file\u001b[39m\u001b[39m'\u001b[39m]  \u001b[39m# for validating 'yolo train data=url.zip' usage\u001b[39;00m\n\u001b[0;32m    122\u001b[0m \u001b[39mexcept\u001b[39;00m \u001b[39mException\u001b[39;00m \u001b[39mas\u001b[39;00m e:\n\u001b[1;32m--> 123\u001b[0m     \u001b[39mraise\u001b[39;00m \u001b[39mRuntimeError\u001b[39;00m(emojis(\u001b[39mf\u001b[39m\u001b[39m\"\u001b[39m\u001b[39mDataset \u001b[39m\u001b[39m'\u001b[39m\u001b[39m{\u001b[39;00mclean_url(\u001b[39mself\u001b[39m\u001b[39m.\u001b[39margs\u001b[39m.\u001b[39mdata)\u001b[39m}\u001b[39;00m\u001b[39m'\u001b[39m\u001b[39m error ❌ \u001b[39m\u001b[39m{\u001b[39;00me\u001b[39m}\u001b[39;00m\u001b[39m\"\u001b[39m)) \u001b[39mfrom\u001b[39;00m \u001b[39me\u001b[39;00m\n\u001b[0;32m    125\u001b[0m \u001b[39mself\u001b[39m\u001b[39m.\u001b[39mtrainset, \u001b[39mself\u001b[39m\u001b[39m.\u001b[39mtestset \u001b[39m=\u001b[39m \u001b[39mself\u001b[39m\u001b[39m.\u001b[39mget_dataset(\u001b[39mself\u001b[39m\u001b[39m.\u001b[39mdata)\n\u001b[0;32m    126\u001b[0m \u001b[39mself\u001b[39m\u001b[39m.\u001b[39mema \u001b[39m=\u001b[39m \u001b[39mNone\u001b[39;00m\n",
      "\u001b[1;31mRuntimeError\u001b[0m: Dataset 'working/yolo.yaml' error  \nDataset 'working/yolo.yaml' images not found , missing path 'D:\\JJPES\\projects\\Yolo_car_detection\\datasets\\working\\data\\working\\data\\images\\val'\nNote dataset download directory is 'D:\\JJPES\\projects\\Yolo_car_detection\\datasets'. You can update this in 'C:\\Users\\admin\\AppData\\Roaming\\Ultralytics\\settings.yaml'"
     ]
    }
   ],
   "source": [
    "model.train(data='working/yolo.yaml', epochs=2, patience=5, batch=8, lr0=0.0005, imgsz=640)"
   ]
  }
 ],
 "metadata": {
  "kernelspec": {
   "display_name": "Python 3",
   "language": "python",
   "name": "python3"
  },
  "language_info": {
   "codemirror_mode": {
    "name": "ipython",
    "version": 3
   },
   "file_extension": ".py",
   "mimetype": "text/x-python",
   "name": "python",
   "nbconvert_exporter": "python",
   "pygments_lexer": "ipython3",
   "version": "3.11.4"
  },
  "orig_nbformat": 4
 },
 "nbformat": 4,
 "nbformat_minor": 2
}
